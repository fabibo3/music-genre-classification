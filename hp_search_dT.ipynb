{
  "nbformat": 4,
  "nbformat_minor": 0,
  "metadata": {
    "colab": {
      "name": "Untitled2.ipynb",
      "provenance": [],
      "authorship_tag": "ABX9TyPe6daMADOAxqyaA7zvKb4f",
      "include_colab_link": true
    },
    "kernelspec": {
      "name": "python3",
      "display_name": "Python 3"
    }
  },
  "cells": [
    {
      "cell_type": "markdown",
      "metadata": {
        "id": "view-in-github",
        "colab_type": "text"
      },
      "source": [
        "<a href=\"https://colab.research.google.com/github/fabibo3/music-genre-classification/blob/main/hp_search_dT.ipynb\" target=\"_parent\"><img src=\"https://colab.research.google.com/assets/colab-badge.svg\" alt=\"Open In Colab\"/></a>"
      ]
    },
    {
      "cell_type": "code",
      "metadata": {
        "colab": {
          "base_uri": "https://localhost:8080/"
        },
        "id": "IflI7FGwduxD",
        "outputId": "4619297e-eb3b-4f57-a8d5-4ef5258f8355"
      },
      "source": [
        "# Clone repo\r\n",
        "!git clone https://github.com/fabibo3/music-genre-classification.git\r\n"
      ],
      "execution_count": 5,
      "outputs": [
        {
          "output_type": "stream",
          "text": [
            "fatal: destination path 'music-genre-classification' already exists and is not an empty directory.\n",
            "drive  music-genre-classification  sample_data\n"
          ],
          "name": "stdout"
        }
      ]
    },
    {
      "cell_type": "code",
      "metadata": {
        "colab": {
          "base_uri": "https://localhost:8080/"
        },
        "id": "rtG9skBue1VC",
        "outputId": "52b27e8f-c45d-4eac-9dd5-c839d01f1ff0"
      },
      "source": [
        "# check repo\r\n",
        "!ls music-genre-classification/"
      ],
      "execution_count": 8,
      "outputs": [
        {
          "output_type": "stream",
          "text": [
            "config\tREADME.md  src\n"
          ],
          "name": "stdout"
        }
      ]
    },
    {
      "cell_type": "code",
      "metadata": {
        "colab": {
          "base_uri": "https://localhost:8080/"
        },
        "id": "_vW9xmYEbRBA",
        "outputId": "6d254d86-2aa8-4a8d-a9bc-0ed5430a18fa"
      },
      "source": [
        "# Mount google drive\r\n",
        "from google.colab import drive\r\n",
        "drive.mount('/content/drive/')"
      ],
      "execution_count": 9,
      "outputs": [
        {
          "output_type": "stream",
          "text": [
            "Drive already mounted at /content/drive/; to attempt to forcibly remount, call drive.mount(\"/content/drive/\", force_remount=True).\n"
          ],
          "name": "stdout"
        }
      ]
    },
    {
      "cell_type": "code",
      "metadata": {
        "colab": {
          "base_uri": "https://localhost:8080/"
        },
        "id": "hBjsTzK9fXIN",
        "outputId": "581da248-9d18-4b60-b290-0bbe0e73c7e5"
      },
      "source": [
        "# Create experiments directory \r\n",
        "!mkdir music-genre-classification/experiments/"
      ],
      "execution_count": 14,
      "outputs": [
        {
          "output_type": "stream",
          "text": [
            "mkdir: cannot create directory ‘music-genre-classification/experiments/’: File exists\n"
          ],
          "name": "stdout"
        }
      ]
    },
    {
      "cell_type": "code",
      "metadata": {
        "colab": {
          "base_uri": "https://localhost:8080/"
        },
        "id": "sKhVjWzRlF2d",
        "outputId": "c30436c1-927b-4d61-a06c-8e1bcddec9be"
      },
      "source": [
        "# Execute code \r\n",
        "!pip install catboost\r\n",
        "!python music-genre-classification/src/run.py --data_base_dir drive/MyDrive/data/ decision_tree_config.json "
      ],
      "execution_count": 16,
      "outputs": [
        {
          "output_type": "stream",
          "text": [
            "Collecting catboost\n",
            "\u001b[?25l  Downloading https://files.pythonhosted.org/packages/7e/c1/c1c4707013f9e2f8a96899dd3a87f66c9167d6d776a6dc8fe7ec8678d446/catboost-0.24.3-cp36-none-manylinux1_x86_64.whl (66.3MB)\n",
            "\u001b[K     |████████████████████████████████| 66.3MB 60kB/s \n",
            "\u001b[?25hRequirement already satisfied: plotly in /usr/local/lib/python3.6/dist-packages (from catboost) (4.4.1)\n",
            "Requirement already satisfied: scipy in /usr/local/lib/python3.6/dist-packages (from catboost) (1.4.1)\n",
            "Requirement already satisfied: pandas>=0.24.0 in /usr/local/lib/python3.6/dist-packages (from catboost) (1.1.4)\n",
            "Requirement already satisfied: graphviz in /usr/local/lib/python3.6/dist-packages (from catboost) (0.10.1)\n",
            "Requirement already satisfied: six in /usr/local/lib/python3.6/dist-packages (from catboost) (1.15.0)\n",
            "Requirement already satisfied: numpy>=1.16.0 in /usr/local/lib/python3.6/dist-packages (from catboost) (1.18.5)\n",
            "Requirement already satisfied: matplotlib in /usr/local/lib/python3.6/dist-packages (from catboost) (3.2.2)\n",
            "Requirement already satisfied: retrying>=1.3.3 in /usr/local/lib/python3.6/dist-packages (from plotly->catboost) (1.3.3)\n",
            "Requirement already satisfied: python-dateutil>=2.7.3 in /usr/local/lib/python3.6/dist-packages (from pandas>=0.24.0->catboost) (2.8.1)\n",
            "Requirement already satisfied: pytz>=2017.2 in /usr/local/lib/python3.6/dist-packages (from pandas>=0.24.0->catboost) (2018.9)\n",
            "Requirement already satisfied: pyparsing!=2.0.4,!=2.1.2,!=2.1.6,>=2.0.1 in /usr/local/lib/python3.6/dist-packages (from matplotlib->catboost) (2.4.7)\n",
            "Requirement already satisfied: cycler>=0.10 in /usr/local/lib/python3.6/dist-packages (from matplotlib->catboost) (0.10.0)\n",
            "Requirement already satisfied: kiwisolver>=1.0.1 in /usr/local/lib/python3.6/dist-packages (from matplotlib->catboost) (1.3.1)\n",
            "Installing collected packages: catboost\n",
            "Successfully installed catboost-0.24.3\n",
            "Reading configuration files...\n",
            "Start experiment 1 of 2\n",
            "##################################################\n",
            "Preparing experiment \"dec-tree-cv\"...\n",
            "Traceback (most recent call last):\n",
            "  File \"music-genre-classification/src/run.py\", line 25, in <module>\n",
            "    run()\n",
            "  File \"music-genre-classification/src/run.py\", line 20, in run\n",
            "    run_experiment(cf)\n",
            "  File \"/content/music-genre-classification/src/utils/experiments.py\", line 37, in run_experiment\n",
            "    search_parameters(config)\n",
            "  File \"/content/music-genre-classification/src/utils/experiments.py\", line 67, in search_parameters\n",
            "    all_files = os.listdir(get_train_data_path())\n",
            "FileNotFoundError: [Errno 2] No such file or directory: '/content/music-genre-classification/data/train/Train'\n"
          ],
          "name": "stdout"
        }
      ]
    },
    {
      "cell_type": "code",
      "metadata": {
        "id": "C63udThjnukg"
      },
      "source": [
        "# Copy experiments folder to drive\r\n",
        "!cp -r music-genre-classification/experiments/ /content/drive/MyDrive/"
      ],
      "execution_count": 18,
      "outputs": []
    }
  ]
}