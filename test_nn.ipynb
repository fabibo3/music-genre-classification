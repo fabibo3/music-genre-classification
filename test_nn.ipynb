{
  "nbformat": 4,
  "nbformat_minor": 0,
  "metadata": {
    "colab": {
      "name": "Copy of Untitled2.ipynb",
      "provenance": [],
      "authorship_tag": "ABX9TyO3GwP+TJ2Iy3XvcqDC/KbD",
      "include_colab_link": true
    },
    "kernelspec": {
      "name": "python3",
      "display_name": "Python 3"
    },
    "accelerator": "GPU"
  },
  "cells": [
    {
      "cell_type": "markdown",
      "metadata": {
        "id": "view-in-github",
        "colab_type": "text"
      },
      "source": [
        "<a href=\"https://colab.research.google.com/github/fabibo3/music-genre-classification/blob/main/test_nn.ipynb\" target=\"_parent\"><img src=\"https://colab.research.google.com/assets/colab-badge.svg\" alt=\"Open In Colab\"/></a>"
      ]
    },
    {
      "cell_type": "code",
      "metadata": {
        "colab": {
          "base_uri": "https://localhost:8080/"
        },
        "id": "IflI7FGwduxD",
        "outputId": "5e6dc298-c809-48de-e583-90774ac68ac0"
      },
      "source": [
        "# Clone repo\r\n",
        "!rm -r music-genre-classification/\r\n",
        "!git clone https://github.com/fabibo3/music-genre-classification.git\r\n"
      ],
      "execution_count": null,
      "outputs": [
        {
          "output_type": "stream",
          "text": [
            "Cloning into 'music-genre-classification'...\n",
            "remote: Enumerating objects: 272, done.\u001b[K\n",
            "remote: Counting objects: 100% (272/272), done.\u001b[K\n",
            "remote: Compressing objects: 100% (178/178), done.\u001b[K\n",
            "remote: Total 272 (delta 156), reused 179 (delta 83), pack-reused 0\u001b[K\n",
            "Receiving objects: 100% (272/272), 84.00 KiB | 843.00 KiB/s, done.\n",
            "Resolving deltas: 100% (156/156), done.\n"
          ],
          "name": "stdout"
        }
      ]
    },
    {
      "cell_type": "code",
      "metadata": {
        "colab": {
          "base_uri": "https://localhost:8080/"
        },
        "id": "rtG9skBue1VC",
        "outputId": "344254be-0aa2-4381-aebf-e99a666434de"
      },
      "source": [
        "# check repo\r\n",
        "!ls music-genre-classification/"
      ],
      "execution_count": null,
      "outputs": [
        {
          "output_type": "stream",
          "text": [
            "config\thp_search_dT.ipynb  README.md  src  train_cnn.ipynb  train_nn.ipynb\n"
          ],
          "name": "stdout"
        }
      ]
    },
    {
      "cell_type": "code",
      "metadata": {
        "colab": {
          "base_uri": "https://localhost:8080/"
        },
        "id": "_vW9xmYEbRBA",
        "outputId": "a04191b8-9c80-4ae4-a63d-48a0c3cb29d9"
      },
      "source": [
        "# Mount google drive\r\n",
        "from google.colab import drive\r\n",
        "drive.mount('/content/drive/')"
      ],
      "execution_count": null,
      "outputs": [
        {
          "output_type": "stream",
          "text": [
            "Drive already mounted at /content/drive/; to attempt to forcibly remount, call drive.mount(\"/content/drive/\", force_remount=True).\n"
          ],
          "name": "stdout"
        }
      ]
    },
    {
      "cell_type": "code",
      "metadata": {
        "colab": {
          "base_uri": "https://localhost:8080/"
        },
        "id": "kQGJZDgsDeka",
        "outputId": "2b5a2043-de19-4161-a1f8-d28fcc949ac7"
      },
      "source": [
        "!pip install catboost"
      ],
      "execution_count": null,
      "outputs": [
        {
          "output_type": "stream",
          "text": [
            "Requirement already satisfied: catboost in /usr/local/lib/python3.6/dist-packages (0.24.3)\n",
            "Requirement already satisfied: six in /usr/local/lib/python3.6/dist-packages (from catboost) (1.15.0)\n",
            "Requirement already satisfied: matplotlib in /usr/local/lib/python3.6/dist-packages (from catboost) (3.2.2)\n",
            "Requirement already satisfied: numpy>=1.16.0 in /usr/local/lib/python3.6/dist-packages (from catboost) (1.18.5)\n",
            "Requirement already satisfied: pandas>=0.24.0 in /usr/local/lib/python3.6/dist-packages (from catboost) (1.1.5)\n",
            "Requirement already satisfied: plotly in /usr/local/lib/python3.6/dist-packages (from catboost) (4.4.1)\n",
            "Requirement already satisfied: scipy in /usr/local/lib/python3.6/dist-packages (from catboost) (1.4.1)\n",
            "Requirement already satisfied: graphviz in /usr/local/lib/python3.6/dist-packages (from catboost) (0.10.1)\n",
            "Requirement already satisfied: cycler>=0.10 in /usr/local/lib/python3.6/dist-packages (from matplotlib->catboost) (0.10.0)\n",
            "Requirement already satisfied: pyparsing!=2.0.4,!=2.1.2,!=2.1.6,>=2.0.1 in /usr/local/lib/python3.6/dist-packages (from matplotlib->catboost) (2.4.7)\n",
            "Requirement already satisfied: kiwisolver>=1.0.1 in /usr/local/lib/python3.6/dist-packages (from matplotlib->catboost) (1.3.1)\n",
            "Requirement already satisfied: python-dateutil>=2.1 in /usr/local/lib/python3.6/dist-packages (from matplotlib->catboost) (2.8.1)\n",
            "Requirement already satisfied: pytz>=2017.2 in /usr/local/lib/python3.6/dist-packages (from pandas>=0.24.0->catboost) (2018.9)\n",
            "Requirement already satisfied: retrying>=1.3.3 in /usr/local/lib/python3.6/dist-packages (from plotly->catboost) (1.3.3)\n"
          ],
          "name": "stdout"
        }
      ]
    },
    {
      "cell_type": "code",
      "metadata": {
        "id": "hBjsTzK9fXIN"
      },
      "source": [
        "# Create experiments directory \r\n",
        "!mkdir music-genre-classification/experiments/\r\n",
        "!cp -r drive/MyDrive/experiments/* music-genre-classification/experiments/."
      ],
      "execution_count": null,
      "outputs": []
    },
    {
      "cell_type": "code",
      "metadata": {
        "colab": {
          "base_uri": "https://localhost:8080/"
        },
        "id": "sKhVjWzRlF2d",
        "outputId": "6ee48bca-63cf-4357-e550-11e8c64a3f14"
      },
      "source": [
        "# Execute code \r\n",
        "!rm -r music-genre-classification/experiments/cnn1-test/\r\n",
        "!python music-genre-classification/src/run.py --data_base_dir drive/MyDrive/data/ nn_config_test.json "
      ],
      "execution_count": null,
      "outputs": [
        {
          "output_type": "stream",
          "text": [
            "Reading configuration files...\n",
            "Start experiment 1 of 1\n",
            "##################################################\n",
            "Preparing experiment \"cnn1-test\"...\n",
            "tcmalloc: large alloc 1282695168 bytes == 0x6620000 @  0x7f4bf06971e7 0x59211c 0x4cddd0 0x5669e2 0x5a4cd1 0x4ddd76 0x4dfa28 0x5ebace 0x50a25a 0x50beb4 0x507be4 0x508ec2 0x594a01 0x549e8f 0x5515c1 0x5a9dac 0x50a433 0x50cc96 0x5095c8 0x50a2fd 0x50beb4 0x5095c8 0x50a2fd 0x50beb4 0x5095c8 0x50a2fd 0x50beb4 0x507be4 0x50ad03 0x634e72 0x634f27\n",
            "tcmalloc: large alloc 1282695168 bytes == 0x52d66000 @  0x7f4bf06971e7 0x59211c 0x5eadd6 0x4debf7 0x5ebace 0x50a25a 0x50beb4 0x507be4 0x508ec2 0x594a01 0x549e8f 0x5515c1 0x5a9dac 0x50a433 0x50cc96 0x5095c8 0x50a2fd 0x50beb4 0x5095c8 0x50a2fd 0x50beb4 0x5095c8 0x50a2fd 0x50beb4 0x507be4 0x50ad03 0x634e72 0x634f27 0x6386df 0x639281 0x4b0dc0\n",
            "##################################################\n",
            "Datasets created\n",
            "##################################################\n",
            "Start algorithm\n",
            "Predicting classes...\n",
            "Traceback (most recent call last):\n",
            "  File \"music-genre-classification/src/run.py\", line 39, in <module>\n",
            "    run()\n",
            "  File \"music-genre-classification/src/run.py\", line 34, in run\n",
            "    run_experiment(cf)\n",
            "  File \"/content/music-genre-classification/src/utils/experiments.py\", line 43, in run_experiment\n",
            "    run_test(config)\n",
            "  File \"/content/music-genre-classification/src/utils/experiments.py\", line 235, in run_test\n",
            "    config[_experiment_name_key])\n",
            "  File \"/content/music-genre-classification/src/utils/experiments.py\", line 262, in run_algorithm\n",
            "    predictions = run_nn_model(algo_config['model_path'], dataset, experiment_name)\n",
            "  File \"/content/music-genre-classification/src/algorithms/neural_networks.py\", line 49, in run_nn_model\n",
            "    result = model(X)\n",
            "  File \"/usr/local/lib/python3.6/dist-packages/torch/nn/modules/module.py\", line 727, in _call_impl\n",
            "    result = self.forward(*input, **kwargs)\n",
            "  File \"/content/music-genre-classification/src/algorithms/neural_networks.py\", line 397, in forward\n",
            "    out = F.relu(self.layer1(X))\n",
            "  File \"/usr/local/lib/python3.6/dist-packages/torch/nn/modules/module.py\", line 727, in _call_impl\n",
            "    result = self.forward(*input, **kwargs)\n",
            "  File \"/usr/local/lib/python3.6/dist-packages/torch/nn/modules/linear.py\", line 93, in forward\n",
            "    return F.linear(input, self.weight, self.bias)\n",
            "  File \"/usr/local/lib/python3.6/dist-packages/torch/nn/functional.py\", line 1692, in linear\n",
            "    output = input.matmul(weight.t())\n",
            "RuntimeError: mat1 dim 1 must match mat2 dim 0\n"
          ],
          "name": "stdout"
        }
      ]
    },
    {
      "cell_type": "code",
      "metadata": {
        "id": "C63udThjnukg"
      },
      "source": [
        "# Copy experiments folder to drive\r\n",
        "!cp -r music-genre-classification/experiments/ /content/drive/MyDrive/"
      ],
      "execution_count": null,
      "outputs": []
    },
    {
      "cell_type": "code",
      "metadata": {
        "colab": {
          "base_uri": "https://localhost:8080/"
        },
        "id": "2dM7s3M3C5U1",
        "outputId": "fc00e09b-b884-48a2-e45d-a8f1cb8b9331"
      },
      "source": [
        "!kaggle competitions submit -c tsma-202021-music-genre-classification -f {filename} -m \"Submission melspectro\""
      ],
      "execution_count": null,
      "outputs": [
        {
          "output_type": "stream",
          "text": [
            "Traceback (most recent call last):\n",
            "  File \"/usr/local/bin/kaggle\", line 5, in <module>\n",
            "    from kaggle.cli import main\n",
            "  File \"/usr/local/lib/python2.7/dist-packages/kaggle/__init__.py\", line 23, in <module>\n",
            "    api.authenticate()\n",
            "  File \"/usr/local/lib/python2.7/dist-packages/kaggle/api/kaggle_api_extended.py\", line 146, in authenticate\n",
            "    self.config_file, self.config_dir))\n",
            "IOError: Could not find kaggle.json. Make sure it's located in /root/.kaggle. Or use the environment method.\n"
          ],
          "name": "stdout"
        }
      ]
    }
  ]
}