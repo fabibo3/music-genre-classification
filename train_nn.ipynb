{
  "nbformat": 4,
  "nbformat_minor": 0,
  "metadata": {
    "colab": {
      "name": "Untitled2.ipynb",
      "provenance": [],
      "authorship_tag": "ABX9TyP/va3JI/tut9B7mEDdzzMe",
      "include_colab_link": true
    },
    "kernelspec": {
      "name": "python3",
      "display_name": "Python 3"
    },
    "accelerator": "GPU"
  },
  "cells": [
    {
      "cell_type": "markdown",
      "metadata": {
        "id": "view-in-github",
        "colab_type": "text"
      },
      "source": [
        "<a href=\"https://colab.research.google.com/github/fabibo3/music-genre-classification/blob/main/train_nn.ipynb\" target=\"_parent\"><img src=\"https://colab.research.google.com/assets/colab-badge.svg\" alt=\"Open In Colab\"/></a>"
      ]
    },
    {
      "cell_type": "code",
      "metadata": {
        "colab": {
          "base_uri": "https://localhost:8080/"
        },
        "id": "IflI7FGwduxD",
        "outputId": "434be948-9790-4843-d386-1633712c9079"
      },
      "source": [
        "# Clone repo\r\n",
        "!rm -r music-genre-classification/\r\n",
        "!git clone https://github.com/fabibo3/music-genre-classification.git\r\n"
      ],
      "execution_count": 32,
      "outputs": [
        {
          "output_type": "stream",
          "text": [
            "Cloning into 'music-genre-classification'...\n",
            "remote: Enumerating objects: 283, done.\u001b[K\n",
            "remote: Counting objects: 100% (283/283), done.\u001b[K\n",
            "remote: Compressing objects: 100% (182/182), done.\u001b[K\n",
            "remote: Total 283 (delta 165), reused 188 (delta 90), pack-reused 0\u001b[K\n",
            "Receiving objects: 100% (283/283), 84.97 KiB | 966.00 KiB/s, done.\n",
            "Resolving deltas: 100% (165/165), done.\n"
          ],
          "name": "stdout"
        }
      ]
    },
    {
      "cell_type": "code",
      "metadata": {
        "colab": {
          "base_uri": "https://localhost:8080/"
        },
        "id": "rtG9skBue1VC",
        "outputId": "2e112aa6-262f-4da1-bdff-465c706b9498"
      },
      "source": [
        "# check repo\r\n",
        "!ls music-genre-classification/"
      ],
      "execution_count": 33,
      "outputs": [
        {
          "output_type": "stream",
          "text": [
            "config\thp_search_dT.ipynb  README.md  src  train_cnn.ipynb  train_nn.ipynb\n"
          ],
          "name": "stdout"
        }
      ]
    },
    {
      "cell_type": "code",
      "metadata": {
        "colab": {
          "base_uri": "https://localhost:8080/"
        },
        "id": "_vW9xmYEbRBA",
        "outputId": "c8c408ff-e66a-460b-b924-d68c082f9b51"
      },
      "source": [
        "# Mount google drive\r\n",
        "from google.colab import drive\r\n",
        "drive.mount('/content/drive/')"
      ],
      "execution_count": 34,
      "outputs": [
        {
          "output_type": "stream",
          "text": [
            "Drive already mounted at /content/drive/; to attempt to forcibly remount, call drive.mount(\"/content/drive/\", force_remount=True).\n"
          ],
          "name": "stdout"
        }
      ]
    },
    {
      "cell_type": "code",
      "metadata": {
        "id": "hBjsTzK9fXIN"
      },
      "source": [
        "# Create experiments directory \r\n",
        "!mkdir music-genre-classification/experiments/"
      ],
      "execution_count": 35,
      "outputs": []
    },
    {
      "cell_type": "code",
      "metadata": {
        "colab": {
          "base_uri": "https://localhost:8080/"
        },
        "id": "sKhVjWzRlF2d",
        "outputId": "ffc12f99-8d7e-4680-8a5d-d2449033b5a8"
      },
      "source": [
        "# Execute code \r\n",
        "!python music-genre-classification/src/run.py --data_base_dir drive/MyDrive/data/ nn_config.json "
      ],
      "execution_count": 36,
      "outputs": [
        {
          "output_type": "stream",
          "text": [
            "Reading configuration files...\n",
            "Start experiment 1 of 1\n",
            "##################################################\n",
            "Preparing experiment \"cnn-vgg-1\"...\n",
            "Traceback (most recent call last):\n",
            "  File \"music-genre-classification/src/run.py\", line 39, in <module>\n",
            "    run()\n",
            "  File \"music-genre-classification/src/run.py\", line 34, in run\n",
            "    run_experiment(cf)\n",
            "  File \"/content/music-genre-classification/src/utils/experiments.py\", line 41, in run_experiment\n",
            "    search_parameters(config)\n",
            "  File \"/content/music-genre-classification/src/utils/experiments.py\", line 91, in search_parameters\n",
            "    dataset = MelSpectroDataset(data_path, label_file=label_path)\n",
            "  File \"/content/music-genre-classification/src/datasets/datasets.py\", line 232, in __init__\n",
            "    self.labels = pickle.load( open(self._label_file, \"rb\" ))\n",
            "_pickle.UnpicklingError: could not find MARK\n"
          ],
          "name": "stdout"
        }
      ]
    },
    {
      "cell_type": "code",
      "metadata": {
        "id": "C63udThjnukg"
      },
      "source": [
        "# Copy experiments folder to drive\r\n",
        "!cp -r music-genre-classification/experiments/ /content/drive/MyDrive/"
      ],
      "execution_count": null,
      "outputs": []
    }
  ]
}