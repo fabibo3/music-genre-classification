{
  "nbformat": 4,
  "nbformat_minor": 0,
  "metadata": {
    "colab": {
      "name": "Untitled2.ipynb",
      "provenance": [],
      "toc_visible": true,
      "authorship_tag": "ABX9TyOfUutaYHIyo9P0IbOBmOq6",
      "include_colab_link": true
    },
    "kernelspec": {
      "name": "python3",
      "display_name": "Python 3"
    },
    "accelerator": "GPU"
  },
  "cells": [
    {
      "cell_type": "markdown",
      "metadata": {
        "id": "view-in-github",
        "colab_type": "text"
      },
      "source": [
        "<a href=\"https://colab.research.google.com/github/fabibo3/music-genre-classification/blob/main/train_nn.ipynb\" target=\"_parent\"><img src=\"https://colab.research.google.com/assets/colab-badge.svg\" alt=\"Open In Colab\"/></a>"
      ]
    },
    {
      "cell_type": "code",
      "metadata": {
        "colab": {
          "base_uri": "https://localhost:8080/"
        },
        "id": "IflI7FGwduxD",
        "outputId": "90974cf4-a02f-4e0a-ae85-8b61e76642cd"
      },
      "source": [
        "# Clone repo\r\n",
        "!rm -r music-genre-classification/\r\n",
        "!git clone https://github.com/fabibo3/music-genre-classification.git\r\n"
      ],
      "execution_count": 11,
      "outputs": [
        {
          "output_type": "stream",
          "text": [
            "Cloning into 'music-genre-classification'...\n",
            "remote: Enumerating objects: 380, done.\u001b[K\n",
            "remote: Counting objects: 100% (380/380), done.\u001b[K\n",
            "remote: Compressing objects: 100% (248/248), done.\u001b[K\n",
            "remote: Total 380 (delta 233), reused 244 (delta 121), pack-reused 0\u001b[K\n",
            "Receiving objects: 100% (380/380), 98.20 KiB | 12.27 MiB/s, done.\n",
            "Resolving deltas: 100% (233/233), done.\n"
          ],
          "name": "stdout"
        }
      ]
    },
    {
      "cell_type": "code",
      "metadata": {
        "colab": {
          "base_uri": "https://localhost:8080/"
        },
        "id": "rtG9skBue1VC",
        "outputId": "d8921a27-1c35-4e5e-a2a5-02f0000ec400"
      },
      "source": [
        "# check repo\r\n",
        "!ls music-genre-classification/"
      ],
      "execution_count": 12,
      "outputs": [
        {
          "output_type": "stream",
          "text": [
            "compute_vgg_embeddings.ipynb  README.md      train_cnn.ipynb\n",
            "config\t\t\t      src\t     train_nn.ipynb\n",
            "hp_search_dT.ipynb\t      test_nn.ipynb\n"
          ],
          "name": "stdout"
        }
      ]
    },
    {
      "cell_type": "code",
      "metadata": {
        "colab": {
          "base_uri": "https://localhost:8080/"
        },
        "id": "_vW9xmYEbRBA",
        "outputId": "3fd4a400-8ae6-49c9-959d-e152a94eaedb"
      },
      "source": [
        "# Mount google drive\r\n",
        "from google.colab import drive\r\n",
        "drive.mount('/content/drive/')"
      ],
      "execution_count": 13,
      "outputs": [
        {
          "output_type": "stream",
          "text": [
            "Drive already mounted at /content/drive/; to attempt to forcibly remount, call drive.mount(\"/content/drive/\", force_remount=True).\n"
          ],
          "name": "stdout"
        }
      ]
    },
    {
      "cell_type": "code",
      "metadata": {
        "id": "hBjsTzK9fXIN",
        "outputId": "74acf63f-8cf5-4294-b173-49b535452756",
        "colab": {
          "base_uri": "https://localhost:8080/"
        }
      },
      "source": [
        "# Create experiments directory \r\n",
        "!mkdir music-genre-classification/experiments/\r\n",
        "!pip install catboost"
      ],
      "execution_count": 14,
      "outputs": [
        {
          "output_type": "stream",
          "text": [
            "Requirement already satisfied: catboost in /usr/local/lib/python3.6/dist-packages (0.24.3)\n",
            "Requirement already satisfied: graphviz in /usr/local/lib/python3.6/dist-packages (from catboost) (0.10.1)\n",
            "Requirement already satisfied: matplotlib in /usr/local/lib/python3.6/dist-packages (from catboost) (3.2.2)\n",
            "Requirement already satisfied: six in /usr/local/lib/python3.6/dist-packages (from catboost) (1.15.0)\n",
            "Requirement already satisfied: pandas>=0.24.0 in /usr/local/lib/python3.6/dist-packages (from catboost) (1.1.5)\n",
            "Requirement already satisfied: scipy in /usr/local/lib/python3.6/dist-packages (from catboost) (1.4.1)\n",
            "Requirement already satisfied: plotly in /usr/local/lib/python3.6/dist-packages (from catboost) (4.4.1)\n",
            "Requirement already satisfied: numpy>=1.16.0 in /usr/local/lib/python3.6/dist-packages (from catboost) (1.19.4)\n",
            "Requirement already satisfied: cycler>=0.10 in /usr/local/lib/python3.6/dist-packages (from matplotlib->catboost) (0.10.0)\n",
            "Requirement already satisfied: python-dateutil>=2.1 in /usr/local/lib/python3.6/dist-packages (from matplotlib->catboost) (2.8.1)\n",
            "Requirement already satisfied: pyparsing!=2.0.4,!=2.1.2,!=2.1.6,>=2.0.1 in /usr/local/lib/python3.6/dist-packages (from matplotlib->catboost) (2.4.7)\n",
            "Requirement already satisfied: kiwisolver>=1.0.1 in /usr/local/lib/python3.6/dist-packages (from matplotlib->catboost) (1.3.1)\n",
            "Requirement already satisfied: pytz>=2017.2 in /usr/local/lib/python3.6/dist-packages (from pandas>=0.24.0->catboost) (2018.9)\n",
            "Requirement already satisfied: retrying>=1.3.3 in /usr/local/lib/python3.6/dist-packages (from plotly->catboost) (1.3.3)\n"
          ],
          "name": "stdout"
        }
      ]
    },
    {
      "cell_type": "code",
      "metadata": {
        "colab": {
          "base_uri": "https://localhost:8080/"
        },
        "id": "sKhVjWzRlF2d",
        "outputId": "0dbf1a7f-1917-4282-eed0-5f79d05329ce"
      },
      "source": [
        "# Execute code \r\n",
        "!rm -r music-genre-classification/experiments/cnn-vgg-1\r\n",
        "!python music-genre-classification/src/run.py --data_base_dir drive/MyDrive/data/ nn_config.json "
      ],
      "execution_count": 15,
      "outputs": [
        {
          "output_type": "stream",
          "text": [
            "rm: cannot remove 'music-genre-classification/experiments/cnn-vgg-1': No such file or directory\n",
            "Reading configuration files...\n",
            "Start experiment 1 of 1\n",
            "##################################################\n",
            "Preparing experiment \"cnn-vgg-1\"...\n",
            "Invalid:  ['098566.mp3' '098567.mp3']\n",
            "Dataset is of shape  (3995, 1, 31, 128)\n",
            "##################################################\n",
            "Searching for best parameters...\n",
            "Invalid:  ['098566.mp3' '098567.mp3']\n",
            "Dataset is of shape  (3995, 1, 31, 128)\n",
            "Using 3196 training files\n",
            "Invalid:  ['098566.mp3' '098567.mp3']\n",
            "Dataset is of shape  (3995, 1, 31, 128)\n",
            "Using 799 validation files\n",
            "Datasets created\n",
            "Using 799 validation samples in training procedure\n",
            "##################################################\n",
            "START TRAIN ON cuda:0.\n",
            "[Iteration 0 / 32] TRAIN LOSS: 2.084\n",
            "[Epoch 1 / 100] VAL acc: 0.212\n",
            "[Iteration 0 / 32] TRAIN LOSS: 2.045\n",
            "[Epoch 2 / 100] VAL acc: 0.289\n",
            "[Iteration 0 / 32] TRAIN LOSS: 2.000\n",
            "[Epoch 3 / 100] VAL acc: 0.439\n",
            "[Iteration 0 / 32] TRAIN LOSS: 1.918\n",
            "[Epoch 4 / 100] VAL acc: 0.521\n",
            "[Iteration 0 / 32] TRAIN LOSS: 1.841\n",
            "[Epoch 5 / 100] VAL acc: 0.586\n",
            "[Iteration 0 / 32] TRAIN LOSS: 1.687\n",
            "[Epoch 6 / 100] VAL acc: 0.605\n",
            "[Iteration 0 / 32] TRAIN LOSS: 1.600\n",
            "[Epoch 7 / 100] VAL acc: 0.623\n",
            "[Iteration 0 / 32] TRAIN LOSS: 1.437\n",
            "[Epoch 8 / 100] VAL acc: 0.632\n",
            "[Iteration 0 / 32] TRAIN LOSS: 1.386\n",
            "[Epoch 9 / 100] VAL acc: 0.632\n",
            "[Iteration 0 / 32] TRAIN LOSS: 1.337\n",
            "[Epoch 10 / 100] VAL acc: 0.631\n",
            "[Iteration 0 / 32] TRAIN LOSS: 1.370\n",
            "[Epoch 11 / 100] VAL acc: 0.641\n",
            "[Iteration 0 / 32] TRAIN LOSS: 1.289\n",
            "[Epoch 12 / 100] VAL acc: 0.642\n",
            "[Iteration 0 / 32] TRAIN LOSS: 1.277\n",
            "[Epoch 13 / 100] VAL acc: 0.636\n",
            "[Iteration 0 / 32] TRAIN LOSS: 1.155\n",
            "[Epoch 14 / 100] VAL acc: 0.643\n",
            "[Iteration 0 / 32] TRAIN LOSS: 1.205\n",
            "[Epoch 15 / 100] VAL acc: 0.642\n",
            "[Iteration 0 / 32] TRAIN LOSS: 1.200\n",
            "[Epoch 16 / 100] VAL acc: 0.647\n",
            "[Iteration 0 / 32] TRAIN LOSS: 1.070\n",
            "[Epoch 17 / 100] VAL acc: 0.650\n",
            "[Iteration 0 / 32] TRAIN LOSS: 1.109\n",
            "[Epoch 18 / 100] VAL acc: 0.652\n",
            "[Iteration 0 / 32] TRAIN LOSS: 1.101\n",
            "[Epoch 19 / 100] VAL acc: 0.652\n",
            "[Iteration 0 / 32] TRAIN LOSS: 1.171\n",
            "[Epoch 20 / 100] VAL acc: 0.651\n",
            "[Iteration 0 / 32] TRAIN LOSS: 1.157\n",
            "[Epoch 21 / 100] VAL acc: 0.650\n",
            "[Iteration 0 / 32] TRAIN LOSS: 1.154\n",
            "[Epoch 22 / 100] VAL acc: 0.652\n",
            "[Iteration 0 / 32] TRAIN LOSS: 1.092\n",
            "[Epoch 23 / 100] VAL acc: 0.652\n",
            "[Iteration 0 / 32] TRAIN LOSS: 1.070\n",
            "[Epoch 24 / 100] VAL acc: 0.652\n",
            "[Iteration 0 / 32] TRAIN LOSS: 1.104\n",
            "[Epoch 25 / 100] VAL acc: 0.652\n",
            "[Iteration 0 / 32] TRAIN LOSS: 1.073\n",
            "[Epoch 26 / 100] VAL acc: 0.658\n",
            "[Iteration 0 / 32] TRAIN LOSS: 1.183\n",
            "[Epoch 27 / 100] VAL acc: 0.653\n",
            "[Iteration 0 / 32] TRAIN LOSS: 1.045\n",
            "[Epoch 28 / 100] VAL acc: 0.656\n",
            "[Iteration 0 / 32] TRAIN LOSS: 1.098\n",
            "[Epoch 29 / 100] VAL acc: 0.658\n",
            "[Iteration 0 / 32] TRAIN LOSS: 1.041\n",
            "[Epoch 30 / 100] VAL acc: 0.662\n",
            "[Iteration 0 / 32] TRAIN LOSS: 1.031\n",
            "[Epoch 31 / 100] VAL acc: 0.652\n",
            "[Iteration 0 / 32] TRAIN LOSS: 1.021\n",
            "[Epoch 32 / 100] VAL acc: 0.652\n",
            "[Iteration 0 / 32] TRAIN LOSS: 1.081\n",
            "[Epoch 33 / 100] VAL acc: 0.657\n",
            "[Iteration 0 / 32] TRAIN LOSS: 1.051\n",
            "[Epoch 34 / 100] VAL acc: 0.665\n",
            "[Iteration 0 / 32] TRAIN LOSS: 1.010\n",
            "[Epoch 35 / 100] VAL acc: 0.660\n",
            "[Iteration 0 / 32] TRAIN LOSS: 1.061\n",
            "[Epoch 36 / 100] VAL acc: 0.658\n",
            "[Iteration 0 / 32] TRAIN LOSS: 1.114\n",
            "[Epoch 37 / 100] VAL acc: 0.656\n",
            "[Iteration 0 / 32] TRAIN LOSS: 1.007\n",
            "[Epoch 38 / 100] VAL acc: 0.662\n",
            "[Iteration 0 / 32] TRAIN LOSS: 1.054\n",
            "[Epoch 39 / 100] VAL acc: 0.658\n",
            "[Iteration 0 / 32] TRAIN LOSS: 1.046\n",
            "[Epoch 40 / 100] VAL acc: 0.667\n",
            "[Iteration 0 / 32] TRAIN LOSS: 1.096\n",
            "[Epoch 41 / 100] VAL acc: 0.663\n",
            "[Iteration 0 / 32] TRAIN LOSS: 1.046\n",
            "[Epoch 42 / 100] VAL acc: 0.666\n",
            "[Iteration 0 / 32] TRAIN LOSS: 1.069\n",
            "[Epoch 43 / 100] VAL acc: 0.665\n",
            "[Iteration 0 / 32] TRAIN LOSS: 1.055\n",
            "[Epoch 44 / 100] VAL acc: 0.667\n",
            "[Iteration 0 / 32] TRAIN LOSS: 1.036\n",
            "[Epoch 45 / 100] VAL acc: 0.667\n",
            "[Iteration 0 / 32] TRAIN LOSS: 1.077\n",
            "[Epoch 46 / 100] VAL acc: 0.665\n",
            "[Iteration 0 / 32] TRAIN LOSS: 1.008\n",
            "[Epoch 47 / 100] VAL acc: 0.667\n",
            "[Iteration 0 / 32] TRAIN LOSS: 1.009\n",
            "[Epoch 48 / 100] VAL acc: 0.662\n",
            "[Iteration 0 / 32] TRAIN LOSS: 1.054\n",
            "[Epoch 49 / 100] VAL acc: 0.668\n",
            "[Iteration 0 / 32] TRAIN LOSS: 1.073\n",
            "[Epoch 50 / 100] VAL acc: 0.668\n",
            "[Iteration 0 / 32] TRAIN LOSS: 0.951\n",
            "[Epoch 51 / 100] VAL acc: 0.672\n",
            "[Iteration 0 / 32] TRAIN LOSS: 1.030\n",
            "[Epoch 52 / 100] VAL acc: 0.675\n",
            "[Iteration 0 / 32] TRAIN LOSS: 1.031\n",
            "[Epoch 53 / 100] VAL acc: 0.665\n",
            "[Iteration 0 / 32] TRAIN LOSS: 0.963\n",
            "[Epoch 54 / 100] VAL acc: 0.672\n",
            "[Iteration 0 / 32] TRAIN LOSS: 1.051\n",
            "[Epoch 55 / 100] VAL acc: 0.667\n",
            "[Iteration 0 / 32] TRAIN LOSS: 1.039\n",
            "[Epoch 56 / 100] VAL acc: 0.671\n",
            "[Iteration 0 / 32] TRAIN LOSS: 0.990\n",
            "[Epoch 57 / 100] VAL acc: 0.673\n",
            "[Iteration 0 / 32] TRAIN LOSS: 1.081\n",
            "[Epoch 58 / 100] VAL acc: 0.677\n",
            "[Iteration 0 / 32] TRAIN LOSS: 1.026\n",
            "[Epoch 59 / 100] VAL acc: 0.678\n",
            "[Iteration 0 / 32] TRAIN LOSS: 1.024\n",
            "[Epoch 60 / 100] VAL acc: 0.675\n",
            "[Iteration 0 / 32] TRAIN LOSS: 1.071\n",
            "[Epoch 61 / 100] VAL acc: 0.675\n",
            "[Iteration 0 / 32] TRAIN LOSS: 0.967\n",
            "[Epoch 62 / 100] VAL acc: 0.668\n",
            "[Iteration 0 / 32] TRAIN LOSS: 1.033\n",
            "[Epoch 63 / 100] VAL acc: 0.671\n",
            "[Iteration 0 / 32] TRAIN LOSS: 0.885\n",
            "[Epoch 64 / 100] VAL acc: 0.673\n",
            "[Iteration 0 / 32] TRAIN LOSS: 1.052\n",
            "[Epoch 65 / 100] VAL acc: 0.681\n",
            "[Iteration 0 / 32] TRAIN LOSS: 1.024\n",
            "[Epoch 66 / 100] VAL acc: 0.675\n",
            "[Iteration 0 / 32] TRAIN LOSS: 0.896\n",
            "[Epoch 67 / 100] VAL acc: 0.676\n",
            "[Iteration 0 / 32] TRAIN LOSS: 1.084\n",
            "[Epoch 68 / 100] VAL acc: 0.673\n",
            "[Iteration 0 / 32] TRAIN LOSS: 0.918\n",
            "[Epoch 69 / 100] VAL acc: 0.678\n",
            "[Iteration 0 / 32] TRAIN LOSS: 1.000\n",
            "[Epoch 70 / 100] VAL acc: 0.671\n",
            "[Iteration 0 / 32] TRAIN LOSS: 1.072\n",
            "[Epoch 71 / 100] VAL acc: 0.673\n",
            "[Iteration 0 / 32] TRAIN LOSS: 0.919\n",
            "[Epoch 72 / 100] VAL acc: 0.672\n",
            "[Iteration 0 / 32] TRAIN LOSS: 0.997\n",
            "[Epoch 73 / 100] VAL acc: 0.678\n",
            "[Iteration 0 / 32] TRAIN LOSS: 0.996\n",
            "[Epoch 74 / 100] VAL acc: 0.678\n",
            "[Iteration 0 / 32] TRAIN LOSS: 1.028\n",
            "[Epoch 75 / 100] VAL acc: 0.678\n",
            "[Iteration 0 / 32] TRAIN LOSS: 0.935\n",
            "[Epoch 76 / 100] VAL acc: 0.677\n",
            "[Iteration 0 / 32] TRAIN LOSS: 1.013\n",
            "[Epoch 77 / 100] VAL acc: 0.681\n",
            "[Iteration 0 / 32] TRAIN LOSS: 0.935\n",
            "[Epoch 78 / 100] VAL acc: 0.677\n",
            "[Iteration 0 / 32] TRAIN LOSS: 0.959\n",
            "[Epoch 79 / 100] VAL acc: 0.677\n",
            "[Iteration 0 / 32] TRAIN LOSS: 0.998\n",
            "[Epoch 80 / 100] VAL acc: 0.677\n",
            "[Iteration 0 / 32] TRAIN LOSS: 1.062\n",
            "[Epoch 81 / 100] VAL acc: 0.680\n",
            "[Iteration 0 / 32] TRAIN LOSS: 0.960\n",
            "[Epoch 82 / 100] VAL acc: 0.682\n",
            "[Iteration 0 / 32] TRAIN LOSS: 1.050\n",
            "[Epoch 83 / 100] VAL acc: 0.683\n",
            "[Iteration 0 / 32] TRAIN LOSS: 0.931\n",
            "[Epoch 84 / 100] VAL acc: 0.685\n",
            "[Iteration 0 / 32] TRAIN LOSS: 0.928\n",
            "[Epoch 85 / 100] VAL acc: 0.685\n",
            "[Iteration 0 / 32] TRAIN LOSS: 0.974\n",
            "[Epoch 86 / 100] VAL acc: 0.686\n",
            "[Iteration 0 / 32] TRAIN LOSS: 0.906\n",
            "[Epoch 87 / 100] VAL acc: 0.687\n",
            "[Iteration 0 / 32] TRAIN LOSS: 0.962\n",
            "[Epoch 88 / 100] VAL acc: 0.682\n",
            "[Iteration 0 / 32] TRAIN LOSS: 0.923\n",
            "[Epoch 89 / 100] VAL acc: 0.683\n",
            "[Iteration 0 / 32] TRAIN LOSS: 0.912\n",
            "[Epoch 90 / 100] VAL acc: 0.683\n",
            "[Iteration 0 / 32] TRAIN LOSS: 0.929\n",
            "[Epoch 91 / 100] VAL acc: 0.685\n",
            "[Iteration 0 / 32] TRAIN LOSS: 0.944\n",
            "[Epoch 92 / 100] VAL acc: 0.687\n",
            "[Iteration 0 / 32] TRAIN LOSS: 0.946\n",
            "[Epoch 93 / 100] VAL acc: 0.685\n",
            "[Iteration 0 / 32] TRAIN LOSS: 0.928\n",
            "[Epoch 94 / 100] VAL acc: 0.681\n",
            "[Iteration 0 / 32] TRAIN LOSS: 0.909\n",
            "[Epoch 95 / 100] VAL acc: 0.683\n",
            "[Iteration 0 / 32] TRAIN LOSS: 0.946\n",
            "[Epoch 96 / 100] VAL acc: 0.686\n",
            "[Iteration 0 / 32] TRAIN LOSS: 0.892\n",
            "[Epoch 97 / 100] VAL acc: 0.685\n",
            "[Iteration 0 / 32] TRAIN LOSS: 0.882\n",
            "[Epoch 98 / 100] VAL acc: 0.683\n",
            "[Iteration 0 / 32] TRAIN LOSS: 0.962\n",
            "[Epoch 99 / 100] VAL acc: 0.683\n",
            "[Iteration 0 / 32] TRAIN LOSS: 0.989\n",
            "[Epoch 100 / 100] VAL acc: 0.687\n",
            "Best model in epoch 87.\n",
            "\n",
            "Reload model from epoch 87\n",
            "Saving model... /content/music-genre-classification/experiments/cnn-vgg-1/best.model\n",
            "FINISH training.\n",
            "Best epoch for lr 0.25: 87 with val accuracy              0.6871088861076345\n",
            "##################################################\n",
            "Best value: 0.6871088861076345\n",
            "Best parameters found:\n",
            "type: neural-network\n",
            "architecture: CNN_2\n",
            "dropout_prob: 0.5\n",
            "epochs: 100\n",
            "learning_rate: 0.25\n",
            "loss_function: CrossEntropy\n",
            "early_stop: True\n",
            "eval_metric: Accuracy\n",
            "weight_decay: 0.01\n",
            "lr_decay_every: 80\n",
            "decay_rate: 0.1\n",
            "log_nth: 100\n",
            "batch_size: 100\n",
            "best_epoch: 87\n",
            "Best parameters of search written to /content/music-genre-classification/experiments/cnn-vgg-1/tuned_parameters.csv\n",
            "##################################################\n",
            "Experiment cnn-vgg-1 finished.\n"
          ],
          "name": "stdout"
        }
      ]
    },
    {
      "cell_type": "code",
      "metadata": {
        "id": "C63udThjnukg"
      },
      "source": [
        "# Copy experiments folder to drive\r\n",
        "!cp -r music-genre-classification/experiments/ /content/drive/MyDrive/"
      ],
      "execution_count": 17,
      "outputs": []
    }
  ]
}