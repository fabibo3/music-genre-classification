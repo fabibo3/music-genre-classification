{
  "nbformat": 4,
  "nbformat_minor": 0,
  "metadata": {
    "colab": {
      "name": "Untitled2.ipynb",
      "provenance": [],
      "authorship_tag": "ABX9TyP/bcYcFTQhh4yrtQn5u4cr",
      "include_colab_link": true
    },
    "kernelspec": {
      "name": "python3",
      "display_name": "Python 3"
    },
    "accelerator": "GPU"
  },
  "cells": [
    {
      "cell_type": "markdown",
      "metadata": {
        "id": "view-in-github",
        "colab_type": "text"
      },
      "source": [
        "<a href=\"https://colab.research.google.com/github/fabibo3/music-genre-classification/blob/main/train_cnn.ipynb\" target=\"_parent\"><img src=\"https://colab.research.google.com/assets/colab-badge.svg\" alt=\"Open In Colab\"/></a>"
      ]
    },
    {
      "cell_type": "code",
      "metadata": {
        "colab": {
          "base_uri": "https://localhost:8080/"
        },
        "id": "IflI7FGwduxD",
        "outputId": "4284955d-eb0b-4eeb-f447-26453e74eca6"
      },
      "source": [
        "# Clone repo\r\n",
        "!rm -r music-genre-classification/\r\n",
        "!git clone https://github.com/fabibo3/music-genre-classification.git\r\n"
      ],
      "execution_count": 9,
      "outputs": [
        {
          "output_type": "stream",
          "text": [
            "Cloning into 'music-genre-classification'...\n",
            "remote: Enumerating objects: 241, done.\u001b[K\n",
            "remote: Counting objects:   0% (1/241)\u001b[K\rremote: Counting objects:   1% (3/241)\u001b[K\rremote: Counting objects:   2% (5/241)\u001b[K\rremote: Counting objects:   3% (8/241)\u001b[K\rremote: Counting objects:   4% (10/241)\u001b[K\rremote: Counting objects:   5% (13/241)\u001b[K\rremote: Counting objects:   6% (15/241)\u001b[K\rremote: Counting objects:   7% (17/241)\u001b[K\rremote: Counting objects:   8% (20/241)\u001b[K\rremote: Counting objects:   9% (22/241)\u001b[K\rremote: Counting objects:  10% (25/241)\u001b[K\rremote: Counting objects:  11% (27/241)\u001b[K\rremote: Counting objects:  12% (29/241)\u001b[K\rremote: Counting objects:  13% (32/241)\u001b[K\rremote: Counting objects:  14% (34/241)\u001b[K\rremote: Counting objects:  15% (37/241)\u001b[K\rremote: Counting objects:  16% (39/241)\u001b[K\rremote: Counting objects:  17% (41/241)\u001b[K\rremote: Counting objects:  18% (44/241)\u001b[K\rremote: Counting objects:  19% (46/241)\u001b[K\rremote: Counting objects:  20% (49/241)\u001b[K\rremote: Counting objects:  21% (51/241)\u001b[K\rremote: Counting objects:  22% (54/241)\u001b[K\rremote: Counting objects:  23% (56/241)\u001b[K\rremote: Counting objects:  24% (58/241)\u001b[K\rremote: Counting objects:  25% (61/241)\u001b[K\rremote: Counting objects:  26% (63/241)\u001b[K\rremote: Counting objects:  27% (66/241)\u001b[K\rremote: Counting objects:  28% (68/241)\u001b[K\rremote: Counting objects:  29% (70/241)\u001b[K\rremote: Counting objects:  30% (73/241)\u001b[K\rremote: Counting objects:  31% (75/241)\u001b[K\rremote: Counting objects:  32% (78/241)\u001b[K\rremote: Counting objects:  33% (80/241)\u001b[K\rremote: Counting objects:  34% (82/241)\u001b[K\rremote: Counting objects:  35% (85/241)\u001b[K\rremote: Counting objects:  36% (87/241)\u001b[K\rremote: Counting objects:  37% (90/241)\u001b[K\rremote: Counting objects:  38% (92/241)\u001b[K\rremote: Counting objects:  39% (94/241)\u001b[K\rremote: Counting objects:  40% (97/241)\u001b[K\rremote: Counting objects:  41% (99/241)\u001b[K\rremote: Counting objects:  42% (102/241)\u001b[K\rremote: Counting objects:  43% (104/241)\u001b[K\rremote: Counting objects:  44% (107/241)\u001b[K\rremote: Counting objects:  45% (109/241)\u001b[K\rremote: Counting objects:  46% (111/241)\u001b[K\rremote: Counting objects:  47% (114/241)\u001b[K\rremote: Counting objects:  48% (116/241)\u001b[K\rremote: Counting objects:  49% (119/241)\u001b[K\rremote: Counting objects:  50% (121/241)\u001b[K\rremote: Counting objects:  51% (123/241)\u001b[K\rremote: Counting objects:  52% (126/241)\u001b[K\rremote: Counting objects:  53% (128/241)\u001b[K\rremote: Counting objects:  54% (131/241)\u001b[K\rremote: Counting objects:  55% (133/241)\u001b[K\rremote: Counting objects:  56% (135/241)\u001b[K\rremote: Counting objects:  57% (138/241)\u001b[K\rremote: Counting objects:  58% (140/241)\u001b[K\rremote: Counting objects:  59% (143/241)\u001b[K\rremote: Counting objects:  60% (145/241)\u001b[K\rremote: Counting objects:  61% (148/241)\u001b[K\rremote: Counting objects:  62% (150/241)\u001b[K\rremote: Counting objects:  63% (152/241)\u001b[K\rremote: Counting objects:  64% (155/241)\u001b[K\rremote: Counting objects:  65% (157/241)\u001b[K\rremote: Counting objects:  66% (160/241)\u001b[K\rremote: Counting objects:  67% (162/241)\u001b[K\rremote: Counting objects:  68% (164/241)\u001b[K\rremote: Counting objects:  69% (167/241)\u001b[K\rremote: Counting objects:  70% (169/241)\u001b[K\rremote: Counting objects:  71% (172/241)\u001b[K\rremote: Counting objects:  72% (174/241)\u001b[K\rremote: Counting objects:  73% (176/241)\u001b[K\rremote: Counting objects:  74% (179/241)\u001b[K\rremote: Counting objects:  75% (181/241)\u001b[K\rremote: Counting objects:  76% (184/241)\u001b[K\rremote: Counting objects:  77% (186/241)\u001b[K\rremote: Counting objects:  78% (188/241)\u001b[K\rremote: Counting objects:  79% (191/241)\u001b[K\rremote: Counting objects:  80% (193/241)\u001b[K\rremote: Counting objects:  81% (196/241)\u001b[K\rremote: Counting objects:  82% (198/241)\u001b[K\rremote: Counting objects:  83% (201/241)\u001b[K\rremote: Counting objects:  84% (203/241)\u001b[K\rremote: Counting objects:  85% (205/241)\u001b[K\rremote: Counting objects:  86% (208/241)\u001b[K\rremote: Counting objects:  87% (210/241)\u001b[K\rremote: Counting objects:  88% (213/241)\u001b[K\rremote: Counting objects:  89% (215/241)\u001b[K\rremote: Counting objects:  90% (217/241)\u001b[K\rremote: Counting objects:  91% (220/241)\u001b[K\rremote: Counting objects:  92% (222/241)\u001b[K\rremote: Counting objects:  93% (225/241)\u001b[K\rremote: Counting objects:  94% (227/241)\u001b[K\rremote: Counting objects:  95% (229/241)\u001b[K\rremote: Counting objects:  96% (232/241)\u001b[K\rremote: Counting objects:  97% (234/241)\u001b[K\rremote: Counting objects:  98% (237/241)\u001b[K\rremote: Counting objects:  99% (239/241)\u001b[K\rremote: Counting objects: 100% (241/241)\u001b[K\rremote: Counting objects: 100% (241/241), done.\u001b[K\n",
            "remote: Compressing objects:   0% (1/155)\u001b[K\rremote: Compressing objects:   1% (2/155)\u001b[K\rremote: Compressing objects:   2% (4/155)\u001b[K\rremote: Compressing objects:   3% (5/155)\u001b[K\rremote: Compressing objects:   4% (7/155)\u001b[K\rremote: Compressing objects:   5% (8/155)\u001b[K\rremote: Compressing objects:   6% (10/155)\u001b[K\rremote: Compressing objects:   7% (11/155)\u001b[K\rremote: Compressing objects:   8% (13/155)\u001b[K\rremote: Compressing objects:   9% (14/155)\u001b[K\rremote: Compressing objects:  10% (16/155)\u001b[K\rremote: Compressing objects:  11% (18/155)\u001b[K\rremote: Compressing objects:  12% (19/155)\u001b[K\rremote: Compressing objects:  13% (21/155)\u001b[K\rremote: Compressing objects:  14% (22/155)\u001b[K\rremote: Compressing objects:  15% (24/155)\u001b[K\rremote: Compressing objects:  16% (25/155)\u001b[K\rremote: Compressing objects:  17% (27/155)\u001b[K\rremote: Compressing objects:  18% (28/155)\u001b[K\rremote: Compressing objects:  19% (30/155)\u001b[K\rremote: Compressing objects:  20% (31/155)\u001b[K\rremote: Compressing objects:  21% (33/155)\u001b[K\rremote: Compressing objects:  22% (35/155)\u001b[K\rremote: Compressing objects:  23% (36/155)\u001b[K\rremote: Compressing objects:  24% (38/155)\u001b[K\rremote: Compressing objects:  25% (39/155)\u001b[K\rremote: Compressing objects:  26% (41/155)\u001b[K\rremote: Compressing objects:  27% (42/155)\u001b[K\rremote: Compressing objects:  28% (44/155)\u001b[K\rremote: Compressing objects:  29% (45/155)\u001b[K\rremote: Compressing objects:  30% (47/155)\u001b[K\rremote: Compressing objects:  31% (49/155)\u001b[K\rremote: Compressing objects:  32% (50/155)\u001b[K\rremote: Compressing objects:  33% (52/155)\u001b[K\rremote: Compressing objects:  34% (53/155)\u001b[K\rremote: Compressing objects:  35% (55/155)\u001b[K\rremote: Compressing objects:  36% (56/155)\u001b[K\rremote: Compressing objects:  37% (58/155)\u001b[K\rremote: Compressing objects:  38% (59/155)\u001b[K\rremote: Compressing objects:  39% (61/155)\u001b[K\rremote: Compressing objects:  40% (62/155)\u001b[K\rremote: Compressing objects:  41% (64/155)\u001b[K\rremote: Compressing objects:  42% (66/155)\u001b[K\rremote: Compressing objects:  43% (67/155)\u001b[K\rremote: Compressing objects:  44% (69/155)\u001b[K\rremote: Compressing objects:  45% (70/155)\u001b[K\rremote: Compressing objects:  46% (72/155)\u001b[K\rremote: Compressing objects:  47% (73/155)\u001b[K\rremote: Compressing objects:  48% (75/155)\u001b[K\rremote: Compressing objects:  49% (76/155)\u001b[K\rremote: Compressing objects:  50% (78/155)\u001b[K\rremote: Compressing objects:  51% (80/155)\u001b[K\rremote: Compressing objects:  52% (81/155)\u001b[K\rremote: Compressing objects:  53% (83/155)\u001b[K\rremote: Compressing objects:  54% (84/155)\u001b[K\rremote: Compressing objects:  55% (86/155)\u001b[K\rremote: Compressing objects:  56% (87/155)\u001b[K\rremote: Compressing objects:  57% (89/155)\u001b[K\rremote: Compressing objects:  58% (90/155)\u001b[K\rremote: Compressing objects:  59% (92/155)\u001b[K\rremote: Compressing objects:  60% (93/155)\u001b[K\rremote: Compressing objects:  61% (95/155)\u001b[K\rremote: Compressing objects:  62% (97/155)\u001b[K\rremote: Compressing objects:  63% (98/155)\u001b[K\rremote: Compressing objects:  64% (100/155)\u001b[K\rremote: Compressing objects:  65% (101/155)\u001b[K\rremote: Compressing objects:  66% (103/155)\u001b[K\rremote: Compressing objects:  67% (104/155)\u001b[K\rremote: Compressing objects:  68% (106/155)\u001b[K\rremote: Compressing objects:  69% (107/155)\u001b[K\rremote: Compressing objects:  70% (109/155)\u001b[K\rremote: Compressing objects:  71% (111/155)\u001b[K\rremote: Compressing objects:  72% (112/155)\u001b[K\rremote: Compressing objects:  73% (114/155)\u001b[K\rremote: Compressing objects:  74% (115/155)\u001b[K\rremote: Compressing objects:  75% (117/155)\u001b[K\rremote: Compressing objects:  76% (118/155)\u001b[K\rremote: Compressing objects:  77% (120/155)\u001b[K\rremote: Compressing objects:  78% (121/155)\u001b[K\rremote: Compressing objects:  79% (123/155)\u001b[K\rremote: Compressing objects:  80% (124/155)\u001b[K\rremote: Compressing objects:  81% (126/155)\u001b[K\rremote: Compressing objects:  82% (128/155)\u001b[K\rremote: Compressing objects:  83% (129/155)\u001b[K\rremote: Compressing objects:  84% (131/155)\u001b[K\rremote: Compressing objects:  85% (132/155)\u001b[K\rremote: Compressing objects:  86% (134/155)\u001b[K\rremote: Compressing objects:  87% (135/155)\u001b[K\rremote: Compressing objects:  88% (137/155)\u001b[K\rremote: Compressing objects:  89% (138/155)\u001b[K\rremote: Compressing objects:  90% (140/155)\u001b[K\rremote: Compressing objects:  91% (142/155)\u001b[K\rremote: Compressing objects:  92% (143/155)\u001b[K\rremote: Compressing objects:  93% (145/155)\u001b[K\rremote: Compressing objects:  94% (146/155)\u001b[K\rremote: Compressing objects:  95% (148/155)\u001b[K\rremote: Compressing objects:  96% (149/155)\u001b[K\rremote: Compressing objects:  97% (151/155)\u001b[K\rremote: Compressing objects:  98% (152/155)\u001b[K\rremote: Compressing objects:  99% (154/155)\u001b[K\rremote: Compressing objects: 100% (155/155)\u001b[K\rremote: Compressing objects: 100% (155/155), done.\u001b[K\n",
            "Receiving objects:   0% (1/241)   \rReceiving objects:   1% (3/241)   \rReceiving objects:   2% (5/241)   \rReceiving objects:   3% (8/241)   \rReceiving objects:   4% (10/241)   \rReceiving objects:   5% (13/241)   \rReceiving objects:   6% (15/241)   \rReceiving objects:   7% (17/241)   \rReceiving objects:   8% (20/241)   \rReceiving objects:   9% (22/241)   \rReceiving objects:  10% (25/241)   \rReceiving objects:  11% (27/241)   \rReceiving objects:  12% (29/241)   \rReceiving objects:  13% (32/241)   \rReceiving objects:  14% (34/241)   \rReceiving objects:  15% (37/241)   \rReceiving objects:  16% (39/241)   \rReceiving objects:  17% (41/241)   \rReceiving objects:  18% (44/241)   \rReceiving objects:  19% (46/241)   \rReceiving objects:  20% (49/241)   \rReceiving objects:  21% (51/241)   \rReceiving objects:  22% (54/241)   \rReceiving objects:  23% (56/241)   \rReceiving objects:  24% (58/241)   \rReceiving objects:  25% (61/241)   \rReceiving objects:  26% (63/241)   \rReceiving objects:  27% (66/241)   \rremote: Total 241 (delta 133), reused 166 (delta 75), pack-reused 0\u001b[K\n",
            "Receiving objects:  28% (68/241)   \rReceiving objects:  29% (70/241)   \rReceiving objects:  30% (73/241)   \rReceiving objects:  31% (75/241)   \rReceiving objects:  32% (78/241)   \rReceiving objects:  33% (80/241)   \rReceiving objects:  34% (82/241)   \rReceiving objects:  35% (85/241)   \rReceiving objects:  36% (87/241)   \rReceiving objects:  37% (90/241)   \rReceiving objects:  38% (92/241)   \rReceiving objects:  39% (94/241)   \rReceiving objects:  40% (97/241)   \rReceiving objects:  41% (99/241)   \rReceiving objects:  42% (102/241)   \rReceiving objects:  43% (104/241)   \rReceiving objects:  44% (107/241)   \rReceiving objects:  45% (109/241)   \rReceiving objects:  46% (111/241)   \rReceiving objects:  47% (114/241)   \rReceiving objects:  48% (116/241)   \rReceiving objects:  49% (119/241)   \rReceiving objects:  50% (121/241)   \rReceiving objects:  51% (123/241)   \rReceiving objects:  52% (126/241)   \rReceiving objects:  53% (128/241)   \rReceiving objects:  54% (131/241)   \rReceiving objects:  55% (133/241)   \rReceiving objects:  56% (135/241)   \rReceiving objects:  57% (138/241)   \rReceiving objects:  58% (140/241)   \rReceiving objects:  59% (143/241)   \rReceiving objects:  60% (145/241)   \rReceiving objects:  61% (148/241)   \rReceiving objects:  62% (150/241)   \rReceiving objects:  63% (152/241)   \rReceiving objects:  64% (155/241)   \rReceiving objects:  65% (157/241)   \rReceiving objects:  66% (160/241)   \rReceiving objects:  67% (162/241)   \rReceiving objects:  68% (164/241)   \rReceiving objects:  69% (167/241)   \rReceiving objects:  70% (169/241)   \rReceiving objects:  71% (172/241)   \rReceiving objects:  72% (174/241)   \rReceiving objects:  73% (176/241)   \rReceiving objects:  74% (179/241)   \rReceiving objects:  75% (181/241)   \rReceiving objects:  76% (184/241)   \rReceiving objects:  77% (186/241)   \rReceiving objects:  78% (188/241)   \rReceiving objects:  79% (191/241)   \rReceiving objects:  80% (193/241)   \rReceiving objects:  81% (196/241)   \rReceiving objects:  82% (198/241)   \rReceiving objects:  83% (201/241)   \rReceiving objects:  84% (203/241)   \rReceiving objects:  85% (205/241)   \rReceiving objects:  86% (208/241)   \rReceiving objects:  87% (210/241)   \rReceiving objects:  88% (213/241)   \rReceiving objects:  89% (215/241)   \rReceiving objects:  90% (217/241)   \rReceiving objects:  91% (220/241)   \rReceiving objects:  92% (222/241)   \rReceiving objects:  93% (225/241)   \rReceiving objects:  94% (227/241)   \rReceiving objects:  95% (229/241)   \rReceiving objects:  96% (232/241)   \rReceiving objects:  97% (234/241)   \rReceiving objects:  98% (237/241)   \rReceiving objects:  99% (239/241)   \rReceiving objects: 100% (241/241)   \rReceiving objects: 100% (241/241), 76.32 KiB | 15.26 MiB/s, done.\n",
            "Resolving deltas:   0% (0/133)   \rResolving deltas:  16% (22/133)   \rResolving deltas:  17% (23/133)   \rResolving deltas:  22% (30/133)   \rResolving deltas:  24% (33/133)   \rResolving deltas:  29% (39/133)   \rResolving deltas:  32% (43/133)   \rResolving deltas:  34% (46/133)   \rResolving deltas:  35% (47/133)   \rResolving deltas:  48% (65/133)   \rResolving deltas:  54% (72/133)   \rResolving deltas:  64% (86/133)   \rResolving deltas:  67% (90/133)   \rResolving deltas:  72% (97/133)   \rResolving deltas:  74% (99/133)   \rResolving deltas:  75% (100/133)   \rResolving deltas:  78% (105/133)   \rResolving deltas:  84% (112/133)   \rResolving deltas:  91% (122/133)   \rResolving deltas:  93% (124/133)   \rResolving deltas:  94% (126/133)   \rResolving deltas:  95% (127/133)   \rResolving deltas:  96% (129/133)   \rResolving deltas:  97% (130/133)   \rResolving deltas:  98% (131/133)   \rResolving deltas:  99% (132/133)   \rResolving deltas: 100% (133/133)   \rResolving deltas: 100% (133/133), done.\n"
          ],
          "name": "stdout"
        }
      ]
    },
    {
      "cell_type": "code",
      "metadata": {
        "colab": {
          "base_uri": "https://localhost:8080/"
        },
        "id": "rtG9skBue1VC",
        "outputId": "f2f70f3d-78f6-4c3b-943d-2900b1606254"
      },
      "source": [
        "# check repo\r\n",
        "!ls music-genre-classification/"
      ],
      "execution_count": 10,
      "outputs": [
        {
          "output_type": "stream",
          "text": [
            "config\thp_search_dT.ipynb  README.md  src  train_nn.ipynb\n"
          ],
          "name": "stdout"
        }
      ]
    },
    {
      "cell_type": "code",
      "metadata": {
        "colab": {
          "base_uri": "https://localhost:8080/"
        },
        "id": "_vW9xmYEbRBA",
        "outputId": "6148817e-f8ea-450c-b5da-750413d5fc68"
      },
      "source": [
        "# Mount google drive\r\n",
        "from google.colab import drive\r\n",
        "drive.mount('/content/drive/')"
      ],
      "execution_count": 11,
      "outputs": [
        {
          "output_type": "stream",
          "text": [
            "Drive already mounted at /content/drive/; to attempt to forcibly remount, call drive.mount(\"/content/drive/\", force_remount=True).\n"
          ],
          "name": "stdout"
        }
      ]
    },
    {
      "cell_type": "code",
      "metadata": {
        "id": "hBjsTzK9fXIN"
      },
      "source": [
        "# Create experiments directory \r\n",
        "!mkdir music-genre-classification/experiments/"
      ],
      "execution_count": 12,
      "outputs": []
    },
    {
      "cell_type": "code",
      "metadata": {
        "id": "RqKY55vW2-E2",
        "outputId": "3ffb0d74-e1bf-47ac-c042-88e7defd0c75",
        "colab": {
          "base_uri": "https://localhost:8080/"
        }
      },
      "source": [
        "!pip install catboost"
      ],
      "execution_count": 13,
      "outputs": [
        {
          "output_type": "stream",
          "text": [
            "Requirement already satisfied: catboost in /usr/local/lib/python3.6/dist-packages (0.24.3)\n",
            "Requirement already satisfied: numpy>=1.16.0 in /usr/local/lib/python3.6/dist-packages (from catboost) (1.18.5)\n",
            "Requirement already satisfied: pandas>=0.24.0 in /usr/local/lib/python3.6/dist-packages (from catboost) (1.1.5)\n",
            "Requirement already satisfied: matplotlib in /usr/local/lib/python3.6/dist-packages (from catboost) (3.2.2)\n",
            "Requirement already satisfied: scipy in /usr/local/lib/python3.6/dist-packages (from catboost) (1.4.1)\n",
            "Requirement already satisfied: six in /usr/local/lib/python3.6/dist-packages (from catboost) (1.15.0)\n",
            "Requirement already satisfied: plotly in /usr/local/lib/python3.6/dist-packages (from catboost) (4.4.1)\n",
            "Requirement already satisfied: graphviz in /usr/local/lib/python3.6/dist-packages (from catboost) (0.10.1)\n",
            "Requirement already satisfied: python-dateutil>=2.7.3 in /usr/local/lib/python3.6/dist-packages (from pandas>=0.24.0->catboost) (2.8.1)\n",
            "Requirement already satisfied: pytz>=2017.2 in /usr/local/lib/python3.6/dist-packages (from pandas>=0.24.0->catboost) (2018.9)\n",
            "Requirement already satisfied: kiwisolver>=1.0.1 in /usr/local/lib/python3.6/dist-packages (from matplotlib->catboost) (1.3.1)\n",
            "Requirement already satisfied: pyparsing!=2.0.4,!=2.1.2,!=2.1.6,>=2.0.1 in /usr/local/lib/python3.6/dist-packages (from matplotlib->catboost) (2.4.7)\n",
            "Requirement already satisfied: cycler>=0.10 in /usr/local/lib/python3.6/dist-packages (from matplotlib->catboost) (0.10.0)\n",
            "Requirement already satisfied: retrying>=1.3.3 in /usr/local/lib/python3.6/dist-packages (from plotly->catboost) (1.3.3)\n"
          ],
          "name": "stdout"
        }
      ]
    },
    {
      "cell_type": "code",
      "metadata": {
        "id": "C5wbVA6FAFnh"
      },
      "source": [
        ""
      ],
      "execution_count": 13,
      "outputs": []
    },
    {
      "cell_type": "code",
      "metadata": {
        "colab": {
          "base_uri": "https://localhost:8080/"
        },
        "id": "sKhVjWzRlF2d",
        "outputId": "40781d4c-b75f-4aef-d152-fd4a7cc57998"
      },
      "source": [
        "# Execute code \r\n",
        "!rm -r music-genre-classification/experiments/cnn1/\r\n",
        "!python music-genre-classification/src/run.py --data_base_dir drive/MyDrive/data/ nn_config.json "
      ],
      "execution_count": 17,
      "outputs": [
        {
          "output_type": "stream",
          "text": [
            "Reading configuration files...\n",
            "Start experiment 1 of 1\n",
            "##################################################\n",
            "Preparing experiment \"cnn1\"...\n",
            "tcmalloc: large alloc 1280450560 bytes == 0x56ea000 @  0x7f4e3cb2b1e7 0x59211c 0x4cddd0 0x5669e2 0x5a4cd1 0x4ddd76 0x4dfa28 0x5ebace 0x50a25a 0x50beb4 0x507be4 0x508ec2 0x594a01 0x549e8f 0x5515c1 0x5a9dac 0x50a433 0x50cc96 0x5095c8 0x50a2fd 0x50beb4 0x5095c8 0x50a2fd 0x50beb4 0x5095c8 0x50a2fd 0x50beb4 0x507be4 0x50ad03 0x634e72 0x634f27\n",
            "tcmalloc: large alloc 1280450560 bytes == 0x51c0c000 @  0x7f4e3cb2b1e7 0x59211c 0x5eadd6 0x4debf7 0x5ebace 0x50a25a 0x50beb4 0x507be4 0x508ec2 0x594a01 0x549e8f 0x5515c1 0x5a9dac 0x50a433 0x50cc96 0x5095c8 0x50a2fd 0x50beb4 0x5095c8 0x50a2fd 0x50beb4 0x5095c8 0x50a2fd 0x50beb4 0x507be4 0x50ad03 0x634e72 0x634f27 0x6386df 0x639281 0x4b0dc0\n",
            "##################################################\n",
            "Searching for best parameters...\n",
            "Using 3196 training files\n",
            "Using 799 validation files\n",
            "Datasets created\n",
            "Using 799 validation samples in training procedure\n",
            "##################################################\n",
            "START TRAIN ON cuda:0.\n",
            "Using 3196 training samples\n",
            "[Iteration 0 / 4] TRAIN LOSS: 2.091\n",
            "[Epoch 1 / 10] VAL acc: 0.252\n",
            "[Iteration 0 / 4] TRAIN LOSS: 2.001\n",
            "[Epoch 2 / 10] VAL acc: 0.252\n",
            "[Iteration 0 / 4] TRAIN LOSS: 1.935\n",
            "[Epoch 3 / 10] VAL acc: 0.278\n",
            "[Iteration 0 / 4] TRAIN LOSS: 1.912\n",
            "[Epoch 4 / 10] VAL acc: 0.280\n",
            "[Iteration 0 / 4] TRAIN LOSS: 1.871\n",
            "[Epoch 5 / 10] VAL acc: 0.287\n",
            "[Iteration 0 / 4] TRAIN LOSS: 1.874\n",
            "[Epoch 6 / 10] VAL acc: 0.303\n",
            "[Iteration 0 / 4] TRAIN LOSS: 1.833\n",
            "[Epoch 7 / 10] VAL acc: 0.308\n",
            "[Iteration 0 / 4] TRAIN LOSS: 1.805\n",
            "[Epoch 8 / 10] VAL acc: 0.315\n",
            "[Iteration 0 / 4] TRAIN LOSS: 1.825\n",
            "[Epoch 9 / 10] VAL acc: 0.320\n",
            "[Iteration 0 / 4] TRAIN LOSS: 1.785\n",
            "[Epoch 10 / 10] VAL acc: 0.332\n",
            "Best model in epoch 10.\n",
            "\n",
            "Reload model from epoch 10\n",
            "Saving model... /content/music-genre-classification/experiments/cnn1/best.model\n",
            "FINISH training.\n",
            "Best epoch for lr 0.01: 10 with val accuracy              0.3316645807259074\n",
            "##################################################\n",
            "Best value: 0.3316645807259074\n",
            "Best parameters found:\n",
            "type: neural-network\n",
            "architecture: CNN_2\n",
            "dropout_prob: 0.5\n",
            "epochs: 10\n",
            "learning_rate: 0.01\n",
            "loss_function: CrossEntropy\n",
            "early_stop: True\n",
            "eval_metric: Accuracy\n",
            "weight_decay: 0.1\n",
            "lr_decay_every: 100\n",
            "decay_rate: 0.1\n",
            "log_nth: 10\n",
            "batch_size: 1000\n",
            "best_epoch: 10\n",
            "Best parameters of search written to /content/music-genre-classification/experiments/cnn1/tuned_parameters.csv\n",
            "##################################################\n",
            "Experiment cnn1 finished.\n"
          ],
          "name": "stdout"
        }
      ]
    },
    {
      "cell_type": "code",
      "metadata": {
        "id": "C63udThjnukg"
      },
      "source": [
        "# Copy experiments folder to drive\r\n",
        "!cp -r music-genre-classification/experiments/ /content/drive/MyDrive/"
      ],
      "execution_count": 15,
      "outputs": []
    }
  ]
}